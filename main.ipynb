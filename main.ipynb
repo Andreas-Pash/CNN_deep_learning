{
 "cells": [
  {
   "cell_type": "code",
   "execution_count": 177,
   "metadata": {},
   "outputs": [],
   "source": [
    "import pickle\n",
    "\n",
    "import numpy as np\n",
    "import matplotlib.pyplot as plt\n",
    "import torch\n",
    "import random  "
   ]
  },
  {
   "cell_type": "markdown",
   "metadata": {},
   "source": [
    "### Exploring Metadata"
   ]
  },
  {
   "cell_type": "code",
   "execution_count": 178,
   "metadata": {},
   "outputs": [],
   "source": [
    "def unpickle(file): \n",
    "    \n",
    "    with open(file, 'rb') as fo:\n",
    "        dict = pickle.load(fo, encoding='bytes')\n",
    "    return dict"
   ]
  },
  {
   "cell_type": "code",
   "execution_count": 219,
   "metadata": {},
   "outputs": [
    {
     "data": {
      "text/plain": [
       "[b'airplane',\n",
       " b'automobile',\n",
       " b'bird',\n",
       " b'cat',\n",
       " b'deer',\n",
       " b'dog',\n",
       " b'frog',\n",
       " b'horse',\n",
       " b'ship',\n",
       " b'truck']"
      ]
     },
     "execution_count": 219,
     "metadata": {},
     "output_type": "execute_result"
    }
   ],
   "source": [
    "file_dict = unpickle(r'cifar-10-batches-py/batches.meta')\n",
    "label_map = file_dict[ b'label_names']\n",
    "label_map"
   ]
  },
  {
   "cell_type": "code",
   "execution_count": 180,
   "metadata": {},
   "outputs": [],
   "source": [
    "\n",
    "\n",
    "file_dict = unpickle(r'cifar-10-batches-py/data_batch_1')\n",
    "\n",
    "rbg_10k_img = file_dict[b'data'] #shape is (10000, 3072) with \n",
    "target_var = file_dict[b'labels']\n",
    " \n",
    "assert set(target_var) == set(range(10))\n",
    "assert rbg_10k_img.shape == (10000, 3072)"
   ]
  },
  {
   "cell_type": "code",
   "execution_count": 236,
   "metadata": {},
   "outputs": [
    {
     "name": "stdout",
     "output_type": "stream",
     "text": [
      "Loading batch 1...\n",
      "Loading batch 2...\n",
      "Loading batch 3...\n",
      "Loading batch 4...\n",
      "Loading batch 5...\n",
      "\n",
      "Train set features shape: torch.Size([50000, 3, 32, 32])\n",
      "Test set target variable shape: (5,1)\n",
      "\n",
      "Loading test batch...\n",
      "\n",
      "Test set features shape: torch.Size([10000, 3, 32, 32])\n",
      "Test set target variable shape: (10000,1)\n"
     ]
    }
   ],
   "source": [
    "'''\n",
    "rbg_10k_img: Contains rbg of 10k images of file data_batch_{i}   where i in [1,5]\n",
    "        \n",
    "        - Has shape (10000, 3072)\n",
    "        - The first 1024 entries contain the red channel values, the next 1024 the green, and the final 1024 the blue.\n",
    "\n",
    "target_var: is the target variable representing the class of the picture  \n",
    "        - Has shape (10000, 1)\n",
    "        - The first 1024 entries contain the red channel values, the next 1024 the green, and the final 1024 the blue.\n",
    "\n",
    "0: airplane\t\t\t\t\t\t\t\t\t\t\n",
    "1: automobile\t\t\t\t\t\t\t\t\t\t\n",
    "2: bird\t\t\t\t\t\t\t\t\t\t\n",
    "3: cat\t\t\t\t\t\t\t\t\t\t\n",
    "4: deer\t\t\t\t\t\t\t\t\t\t\n",
    "5: dog\t\t\t\t\t\t\t\t\t\t\n",
    "6: frog\t\t\t\t\t\t\t\t\t\t\n",
    "7: horse\t\t\t\t\t\t\t\t\t\t\n",
    "8: ship\t\t\t\t\t\t\t\t\t\t\n",
    "9: truck\n",
    "'''\n",
    "\n",
    "def load_train_data():\n",
    "    rbg_50k_img = []\n",
    "    class_50k_img = []\n",
    "\n",
    "    for i in range(5):\n",
    "        print(f\"Loading batch {i+1}...\") \n",
    "\n",
    "        file_dict = unpickle(f'cifar-10-batches-py/data_batch_{i+1}') \n",
    "        rbg_50k_img.append(torch.tensor(file_dict[b'data'], dtype=torch.uint8))  \n",
    "        class_50k_img.append(torch.tensor(file_dict[b'labels'], dtype=torch.uint8)) \n",
    "\n",
    "    \n",
    "    rbg_50k_img = torch.cat(rbg_50k_img, dim=0)  # Shape: (50000, 3072)\n",
    "    rbg_50k_img = rbg_50k_img.view(50000, 3, 32, 32)\n",
    "     \n",
    "    assert set(torch.cat(class_50k_img).tolist()) == set(range(10)), \"class_50k_img values are not in the expected range\"\n",
    "    assert rbg_50k_img.shape == torch.Size([50000, 3, 32, 32])\n",
    "    print(\"\\nTrain set features shape:\", rbg_50k_img.shape)    \n",
    "    print(f\"Test set target variable shape: ({len(class_50k_img)},1)\") \n",
    "\n",
    "    \n",
    "\n",
    "    return rbg_50k_img, class_50k_img\n",
    "\n",
    "\n",
    "def load_test_data():\n",
    "    rbg_10k_img = []\n",
    "    class_10k_img = []\n",
    "    print(f\"\\nLoading test batch...\\n\") \n",
    "\n",
    "\n",
    "    file_dict = unpickle(f'cifar-10-batches-py/test_batch') \n",
    "    rbg_10k_img = torch.tensor(file_dict[b'data'], dtype=torch.uint8)\n",
    "    class_10k_img = torch.tensor(file_dict[b'labels'], dtype=torch.uint8)\n",
    "\n",
    "    rbg_10k_img = rbg_10k_img.view(10000, 3, 32, 32) \n",
    "    \n",
    "\n",
    "    assert set(class_10k_img.tolist()) == set(range(10)), \"class_10k_img values are not in the expected range\"\n",
    "    assert rbg_10k_img.shape == torch.Size([10000, 3, 32, 32])\n",
    "    print(\"Test set features shape:\", rbg_10k_img.shape)   \n",
    "    print(f\"Test set target variable shape: ({len(class_10k_img)},1)\") \n",
    "\n",
    "    return rbg_10k_img, class_10k_img\n",
    "\n",
    "\n",
    "x_train, y_train = load_train_data()\n",
    "x_test, y_test = load_test_data()"
   ]
  },
  {
   "cell_type": "markdown",
   "metadata": {},
   "source": [
    "### Checking out a random picture with its associated tag"
   ]
  },
  {
   "cell_type": "code",
   "execution_count": null,
   "metadata": {},
   "outputs": [
    {
     "data": {
      "image/png": "[encoded data removed]",
      "text/plain": [
       "<Figure size 640x480 with 1 Axes>"
      ]
     },
     "metadata": {},
     "output_type": "display_data"
    },
    {
     "name": "stdout",
     "output_type": "stream",
     "text": [
      "This is a b'frog' \n"
     ]
    }
   ],
   "source": [
    "img_no = random.randint(0, 10000)\n",
    "\n",
    "# Assuming `rbg_50k_img` is a PyTorch tensor of shape (50000, 3, 32, 32)\n",
    "img = x_test[img_no]  # Select first image\n",
    "\n",
    "# Convert from Tensor to NumPy for plotting\n",
    "img = img.permute(1, 2, 0).numpy()  # Change shape from (3, 32, 32) -> (32, 32, 3)\n",
    "\n",
    "# Display the image\n",
    "plt.imshow(img.astype(\"uint8\"))\n",
    "plt.axis(\"off\")  # Hide axis\n",
    "plt.show()\n",
    "print( f'This is a {label_map[y_test[img_no]]} ')"
   ]
  },
  {
   "cell_type": "code",
   "execution_count": null,
   "metadata": {},
   "outputs": [],
   "source": []
  }
 ],
 "metadata": {
  "kernelspec": {
   "display_name": "Python 3",
   "language": "python",
   "name": "python3"
  },
  "language_info": {
   "codemirror_mode": {
    "name": "ipython",
    "version": 3
   },
   "file_extension": ".py",
   "mimetype": "text/x-python",
   "name": "python",
   "nbconvert_exporter": "python",
   "pygments_lexer": "ipython3",
   "version": "3.10.3"
  }
 },
 "nbformat": 4,
 "nbformat_minor": 2
}

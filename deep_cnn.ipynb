{
 "cells": [
  {
   "cell_type": "code",
   "execution_count": 1,
   "metadata": {},
   "outputs": [
    {
     "data": {
      "text/plain": [
       "<torch._C.Generator at 0x7fa1a1bd4310>"
      ]
     },
     "execution_count": 1,
     "metadata": {},
     "output_type": "execute_result"
    }
   ],
   "source": [
    "import pickle\n",
    "\n",
    "import numpy as np\n",
    "import matplotlib.pyplot as plt\n",
    "import torch\n",
    "import random  \n",
    "\n",
    "import torch\n",
    "from torch import nn \n",
    "from torch.nn import functional as F  \n",
    "import torchvision\n",
    "from torchvision import transforms\n",
    " \n",
    "import numpy as np\n",
    "\n",
    "import matplotlib.pyplot as plt  \n",
    " \n",
    "%matplotlib inline \n",
    "torch.manual_seed(0)"
   ]
  },
  {
   "cell_type": "markdown",
   "metadata": {},
   "source": [
    "### Exploring Metadata"
   ]
  },
  {
   "cell_type": "code",
   "execution_count": 2,
   "metadata": {},
   "outputs": [],
   "source": [
    "def unpickle(file): \n",
    "    \n",
    "    with open(file, 'rb') as fo:\n",
    "        dict = pickle.load(fo, encoding='bytes')\n",
    "    return dict"
   ]
  },
  {
   "cell_type": "code",
   "execution_count": 3,
   "metadata": {},
   "outputs": [
    {
     "data": {
      "text/plain": [
       "[b'airplane',\n",
       " b'automobile',\n",
       " b'bird',\n",
       " b'cat',\n",
       " b'deer',\n",
       " b'dog',\n",
       " b'frog',\n",
       " b'horse',\n",
       " b'ship',\n",
       " b'truck']"
      ]
     },
     "execution_count": 3,
     "metadata": {},
     "output_type": "execute_result"
    }
   ],
   "source": [
    "file_dict = unpickle(r'cifar-10-batches-py/batches.meta')\n",
    "label_map = file_dict[ b'label_names']\n",
    "label_map"
   ]
  },
  {
   "cell_type": "code",
   "execution_count": 4,
   "metadata": {},
   "outputs": [],
   "source": [
    "\n",
    "\n",
    "file_dict = unpickle(r'cifar-10-batches-py/data_batch_1')\n",
    "\n",
    "rbg_10k_img = file_dict[b'data'] #shape is (10000, 3072) with \n",
    "target_var = file_dict[b'labels']\n",
    " \n",
    "assert set(target_var) == set(range(10))\n",
    "assert rbg_10k_img.shape == (10000, 3072)"
   ]
  },
  {
   "cell_type": "code",
   "execution_count": 5,
   "metadata": {},
   "outputs": [
    {
     "name": "stdout",
     "output_type": "stream",
     "text": [
      "Loading batch 1...\n",
      "Loading batch 2...\n",
      "Loading batch 3...\n",
      "Loading batch 4...\n",
      "Loading batch 5...\n",
      "\n",
      "Train set features shape: torch.Size([50000, 3, 32, 32])\n",
      "Test set target variable shape: (50000,1)\n",
      "\n",
      "Loading test batch...\n",
      "\n",
      "Test set features shape: torch.Size([10000, 3, 32, 32])\n",
      "Test set target variable shape: (10000,1)\n"
     ]
    }
   ],
   "source": [
    "'''\n",
    "rbg_10k_img: Contains rbg of 10k images of file data_batch_{i}   where i in [1,5]\n",
    "        \n",
    "        - Has shape (10000, 3072)\n",
    "        - The first 1024 entries contain the red channel values, the next 1024 the green, and the final 1024 the blue.\n",
    "\n",
    "target_var: is the target variable representing the class of the picture  \n",
    "        - Has shape (10000, 1)\n",
    "        - The first 1024 entries contain the red channel values, the next 1024 the green, and the final 1024 the blue.\n",
    "\n",
    "0: airplane\t\t\t\t\t\t\t\t\t\t\n",
    "1: automobile\t\t\t\t\t\t\t\t\t\t\n",
    "2: bird\t\t\t\t\t\t\t\t\t\t\n",
    "3: cat\t\t\t\t\t\t\t\t\t\t\n",
    "4: deer\t\t\t\t\t\t\t\t\t\t\n",
    "5: dog\t\t\t\t\t\t\t\t\t\t\n",
    "6: frog\t\t\t\t\t\t\t\t\t\t\n",
    "7: horse\t\t\t\t\t\t\t\t\t\t\n",
    "8: ship\t\t\t\t\t\t\t\t\t\t\n",
    "9: truck\n",
    "'''\n",
    "\n",
    "def load_train_data():\n",
    "    rbg_50k_img = []\n",
    "    class_50k_img = []\n",
    "\n",
    "    for i in range(5):\n",
    "        print(f\"Loading batch {i+1}...\") \n",
    "\n",
    "        file_dict = unpickle(f'cifar-10-batches-py/data_batch_{i+1}') \n",
    "        rbg_50k_img.append(torch.tensor(file_dict[b'data'], dtype=torch.float32))  \n",
    "        class_50k_img.append(torch.tensor(file_dict[b'labels'], dtype=torch.long)) \n",
    "\n",
    "    \n",
    "    rbg_50k_img = torch.cat(rbg_50k_img, dim=0)  # Shape: (50000, 3072)\n",
    "    rbg_50k_img = rbg_50k_img.view(50000, 3, 32, 32)\n",
    "\n",
    "    class_50k_img = torch.cat(class_50k_img, dim=0)  # Shape: (50000, 1) \n",
    "    \n",
    "    assert set(class_50k_img.tolist()) == set(range(10)), \"class_50k_img values are not in the expected range\"\n",
    "    assert rbg_50k_img.shape == torch.Size([50000, 3, 32, 32])\n",
    "    print(\"\\nTrain set features shape:\", rbg_50k_img.shape)    \n",
    "    print(f\"Test set target variable shape: ({len(class_50k_img)},1)\") \n",
    "\n",
    "    \n",
    "\n",
    "    return rbg_50k_img, class_50k_img\n",
    "\n",
    "\n",
    "def load_test_data():\n",
    "    rbg_10k_img = []\n",
    "    class_10k_img = []\n",
    "    print(f\"\\nLoading test batch...\\n\") \n",
    "\n",
    "\n",
    "    file_dict = unpickle(f'cifar-10-batches-py/test_batch') \n",
    "    rbg_10k_img = torch.tensor(file_dict[b'data'], dtype=torch.float32)\n",
    "    class_10k_img = torch.tensor(file_dict[b'labels'], dtype=torch.long)\n",
    "\n",
    "    rbg_10k_img = rbg_10k_img.view(10000, 3, 32, 32)  \n",
    "\n",
    "    assert set(class_10k_img.tolist()) == set(range(10)), \"class_10k_img values are not in the expected range\"\n",
    "    assert rbg_10k_img.shape == torch.Size([10000, 3, 32, 32])\n",
    "    print(\"Test set features shape:\", rbg_10k_img.shape)   \n",
    "    print(f\"Test set target variable shape: ({len(class_10k_img)},1)\") \n",
    "\n",
    "    return rbg_10k_img, class_10k_img\n",
    "\n",
    "\n",
    "X_train, Y_train = load_train_data()\n",
    "X_test, Y_test = load_test_data()"
   ]
  },
  {
   "cell_type": "code",
   "execution_count": 36,
   "metadata": {},
   "outputs": [
    {
     "name": "stdout",
     "output_type": "stream",
     "text": [
      "Files already downloaded and verified\n",
      "Files already downloaded and verified\n",
      "Batch X shape: torch.Size([10000, 3, 32, 32])\n",
      "Batch y shape: torch.Size([10000])\n",
      "Batch X shape: torch.Size([10000, 3, 32, 32])\n",
      "Batch y shape: torch.Size([10000])\n"
     ]
    }
   ],
   "source": [
    "def load_data_cifar10(batch_size, resize=None, shuffle_train = False):\n",
    "    \"\"\"Download the CIFAR-10 dataset and then load it into memory.\"\"\"\n",
    "    \n",
    "    trans = [transforms.ToTensor()]\n",
    "    if resize:\n",
    "        trans.insert(0, transforms.Resize(resize))\n",
    "    trans = transforms.Compose(trans)\n",
    "\n",
    "    # Download and create datasets\n",
    "    cifar10_train = torchvision.datasets.CIFAR10(\n",
    "        root=\"../data\", train=True, transform=trans, download=True)\n",
    "    cifar10_test = torchvision.datasets.CIFAR10(\n",
    "        root=\"../data\", train=False, transform=trans, download=True)\n",
    "\n",
    "    # Create data loaders\n",
    "    train_iter = torch.utils.data.DataLoader(\n",
    "        cifar10_train, batch_size=batch_size, shuffle= shuffle_train, num_workers=2)\n",
    "    test_iter = torch.utils.data.DataLoader(\n",
    "        cifar10_test, batch_size=batch_size, shuffle=False, num_workers=2)\n",
    "\n",
    "    return train_iter, test_iter\n",
    "\n",
    "\n",
    "batch_size = 10000\n",
    "train_iter, test_iter = load_data_cifar10(batch_size, resize=None)\n",
    "\n",
    "for x_train , y_train in train_iter:\n",
    "    print(\"Batch X shape:\", x_train.shape)\n",
    "    print(\"Batch y shape:\", y_train.shape)\n",
    "    break\n",
    "\n",
    "for x_test , y_test in test_iter:\n",
    "    print(\"Batch X shape:\", x_test.shape)\n",
    "    print(\"Batch y shape:\", y_test.shape)\n",
    "    break\n",
    "\n"
   ]
  },
  {
   "cell_type": "code",
   "execution_count": 7,
   "metadata": {},
   "outputs": [
    {
     "name": "stdout",
     "output_type": "stream",
     "text": [
      " This way IS EXACTLY the same as the above cell\n"
     ]
    }
   ],
   "source": [
    "if (X_train[0:10000] == 255 * x_train).all() and ( X_test[0:10000] == 255 * x_test).all():\n",
    "    print(f' This way IS EXACTLY the same as the above cell') "
   ]
  },
  {
   "cell_type": "markdown",
   "metadata": {},
   "source": [
    "### Checking out a random picture with its associated tag"
   ]
  },
  {
   "cell_type": "code",
   "execution_count": 8,
   "metadata": {},
   "outputs": [
    {
     "data": {
      "image/png": "[encoded data removed]",
      "text/plain": [
       "<Figure size 640x480 with 1 Axes>"
      ]
     },
     "metadata": {},
     "output_type": "display_data"
    },
    {
     "name": "stdout",
     "output_type": "stream",
     "text": [
      "This is a b'automobile' \n"
     ]
    }
   ],
   "source": [
    "img_no = random.randint(0, 10000)\n",
    "img_no = 46\n",
    "\n",
    "# Assuming `rbg_50k_img` is a PyTorch tensor of shape (50000, 3, 32, 32)\n",
    "img = 255 * x_train[img_no]  # Select first image\n",
    "\n",
    "# Convert from Tensor to NumPy for plotting\n",
    "img = img.permute(1, 2, 0).numpy()  # Change shape from (3, 32, 32) -> (32, 32, 3)\n",
    "\n",
    "# Display the image\n",
    "plt.imshow(img.astype(\"uint8\"))\n",
    "plt.axis(\"off\")  # Hide axis\n",
    "plt.show()\n",
    "print( f'This is a {label_map[int(y_train[img_no])]} ')"
   ]
  },
  {
   "cell_type": "code",
   "execution_count": 9,
   "metadata": {},
   "outputs": [
    {
     "data": {
      "image/png": "[encoded data removed]",
      "text/plain": [
       "<Figure size 640x480 with 1 Axes>"
      ]
     },
     "metadata": {},
     "output_type": "display_data"
    },
    {
     "name": "stdout",
     "output_type": "stream",
     "text": [
      "This is a b'ship' \n"
     ]
    }
   ],
   "source": [
    "img_no = random.randint(0, 10000)\n",
    "img_no = 1\n",
    "# Assuming `rbg_50k_img` is a PyTorch tensor of shape (50000, 3, 32, 32)\n",
    "img = 255 * x_test[img_no]  # Select first image\n",
    "\n",
    "# Convert from Tensor to NumPy for plotting\n",
    "img = img.permute(1, 2, 0).numpy()  # Change shape from (3, 32, 32) -> (32, 32, 3)\n",
    "\n",
    "# Display the image\n",
    "plt.imshow(img.astype(\"uint8\"))\n",
    "plt.axis(\"off\")  # Hide axis\n",
    "plt.show()\n",
    "print( f'This is a {label_map[int(y_test[img_no])]} ')"
   ]
  },
  {
   "cell_type": "code",
   "execution_count": 61,
   "metadata": {},
   "outputs": [
    {
     "name": "stdout",
     "output_type": "stream",
     "text": [
      "a has shape torch.Size([1000, 3]) before the FCL\n",
      "a has shape torch.Size([1000, 2]) after the FCL\n",
      "a has now has shape torch.Size([1000, 2, 1, 1, 1])\n",
      "torch.Size([1000, 10])\n"
     ]
    }
   ],
   "source": [
    "torch.manual_seed(1)\n",
    "\n",
    "class InterBlock(nn.Module):\n",
    "    def __init__(self, x, device, num_convolutions, num_out_fc_layers):\n",
    "        super(InterBlock, self).__init__() \n",
    "        \n",
    "        self.batch_size = x.shape[0]\n",
    "        self.device = device  \n",
    "        self.num_out_fc_layers = num_out_fc_layers\n",
    "        self.num_convolutions = num_convolutions\n",
    "        self.num_channels = 3\n",
    "        \n",
    "        self.Batch1 = nn.ModuleList([\n",
    "                            nn.Conv2d(in_channels=3, out_channels= 11, kernel_size=3, stride=1, padding=1)  \n",
    "                            for _ in range(num_convolutions)\n",
    "                ]).to(self.device)\n",
    "        \n",
    "        self.compute_m = nn.AdaptiveAvgPool2d((1, 1)).to(self.device)  ### Check that this is the same as the mean per channel\n",
    "\n",
    "        self.a_Batch1 = nn.Linear(in_features= self.num_channels, out_features= self.num_convolutions).to(self.device)\n",
    "        self.Relu = nn.ReLU()   #OPTIONAL?!\n",
    "        self.fc_out_layers = nn.ModuleList([\n",
    "                            nn.Linear(in_features=32 , out_features=10) \n",
    "                            for _ in range(num_out_fc_layers)\n",
    "                   ]).to(self.device)\n",
    "\n",
    "    \n",
    "    def compute_out(self, x):\n",
    "        m = torch.mean(torch.mean(x, dim=1), dim=1)\n",
    "        m = m.to(self.device)  # Move `m` to the correct device\n",
    "        \n",
    "        out = torch.zeros( [self.batch_size, 10], device=self.device)  # Ensure `out` is also on GPU if needed\n",
    "        for dense in self.fc_out_layers:\n",
    "            out += dense(m)\n",
    "\n",
    "        return out / self.num_out_fc_layers  # Normalize output\n",
    "\n",
    "\n",
    "    \n",
    "    def forward(self, x):    \n",
    "        x = x.to(device)\n",
    "        \n",
    "        # Computing a\n",
    "        a = self.compute_m( x ).reshape([self.batch_size, self.num_channels])\n",
    "        print(f'a has shape {a.shape} before the FCL')\n",
    "        a = self.a_Batch1(a).to(self.device)\n",
    "        print(f'a has shape {a.shape} after the FCL')\n",
    "             \n",
    "        out = torch.zeros(self.batch_size, 11, 32, 32).to(self.device)\n",
    "        #Computing the convolutions\n",
    "        conv_outputs = []\n",
    "        for conv in self.Batch1:\n",
    "            conv_outputs.append( self.Relu(conv(x.to(self.device)))  # each output has shape (batch_size, 11, 32, 32)\n",
    "        # 2. Stack them into a single tensor of shape (batch_size, num_convs, 11, 32, 32)\n",
    "        #    i.e. we insert a new dimension at dim=1 to hold the \"num_convs\" dimension.\n",
    "        conv_outputs_stacked = torch.stack(conv_outputs, dim=1).to(self.device)\n",
    "        # 3. Reshape 'a' to broadcast across the (11, 32, 32) dimensions.\n",
    "        #    Now 'a' will have shape (batch_size, num_convs, 1, 1, 1).\n",
    "        a = a.unsqueeze(-1).unsqueeze(-1).unsqueeze(-1).to(self.device)\n",
    "        print(f'a has now has shape {a.shape}')\n",
    "        # 4. Multiply and sum along the 'num_convs' dimension (dim=1).\n",
    "        out = (conv_outputs_stacked * a).sum(dim=1)\n",
    "            \n",
    "        out = self.Relu(out)\n",
    "        out = self.compute_out(out)\n",
    "        \n",
    "        return out  \n",
    "\n",
    "\n",
    "device = torch.device(\"cuda\" if torch.cuda.is_available() else \"cpu\") \n",
    "\n",
    "model = InterBlock(x_train, device, num_convolutions=2, num_out_fc_layers=1).to(device)\n",
    "output = model.forward(x_train)\n",
    "\n",
    "print(output.shape)"
   ]
  },
  {
   "cell_type": "code",
   "execution_count": null,
   "metadata": {},
   "outputs": [],
   "source": [
    "def cross_entropy_loss(logit, label): \n",
    "    criterion = nn.CrossEntropyLoss()  \n",
    "    loss = criterion(logit, label)\n",
    "    \n",
    "    return loss\n",
    "\n",
    "def evaluate_metric(model, data_iter, metric, device):\n",
    "    \"\"\"Compute the average `metric` of the model on a dataset.\"\"\" \n",
    "    c = torch.tensor(0.).to(device)\n",
    "    n = torch.tensor(0.).to(device)\n",
    "    model = model.to(device)\n",
    "    print(model)\n",
    "    for X, y in data_iter: \n",
    "        logits = model(X).to(device)\n",
    "        c += metric(logits, y.to(device)).to(device)\n",
    "        n += len(y)  \n",
    "    return c / n\n",
    "\n",
    "def correct(logits, y):\n",
    "    y_hat = logits.argmax(axis=1).to(device) # Finds the column with the highest value for each row of `logits`.\n",
    "    return (y_hat == y).float().sum() # Computes the number of times that `y_hat` and `y` match.\n"
   ]
  },
  {
   "cell_type": "code",
   "execution_count": 53,
   "metadata": {},
   "outputs": [
    {
     "name": "stdout",
     "output_type": "stream",
     "text": [
      "Files already downloaded and verified\n",
      "Files already downloaded and verified\n",
      "Batch X shape: torch.Size([1000, 3, 32, 32])\n",
      "Batch y shape: torch.Size([1000])\n",
      "Batch X shape: torch.Size([1000, 3, 32, 32])\n",
      "Batch y shape: torch.Size([1000])\n"
     ]
    }
   ],
   "source": [
    "batch_size = 1000\n",
    "train_iter, test_iter = load_data_cifar10(batch_size, resize=None, shuffle_train = False)\n",
    "\n",
    "for x_train , y_train in train_iter:\n",
    "    print(\"Batch X shape:\", x_train.shape)\n",
    "    print(\"Batch y shape:\", y_train.shape)\n",
    "    break\n",
    "\n",
    "for x_test , y_test in test_iter:\n",
    "    print(\"Batch X shape:\", x_test.shape)\n",
    "    print(\"Batch y shape:\", y_test.shape)\n",
    "    break\n"
   ]
  },
  {
   "cell_type": "code",
   "execution_count": 62,
   "metadata": {},
   "outputs": [
    {
     "name": "stdout",
     "output_type": "stream",
     "text": [
      "\n",
      "Epoch 1/20.\n",
      "a has shape torch.Size([1000, 3]) before the FCL\n",
      "a has shape torch.Size([1000, 4]) after the FCL\n",
      "a has now has shape torch.Size([1000, 4, 1, 1, 1])\n",
      "Loss: 2.3048079013824463\n",
      "a has shape torch.Size([1000, 3]) before the FCL\n",
      "a has shape torch.Size([1000, 4]) after the FCL\n",
      "a has now has shape torch.Size([1000, 4, 1, 1, 1])\n",
      "Loss: 2.3039188385009766\n",
      "a has shape torch.Size([1000, 3]) before the FCL\n",
      "a has shape torch.Size([1000, 4]) after the FCL\n",
      "a has now has shape torch.Size([1000, 4, 1, 1, 1])\n",
      "Loss: 2.3048460483551025\n",
      "a has shape torch.Size([1000, 3]) before the FCL\n",
      "a has shape torch.Size([1000, 4]) after the FCL\n",
      "a has now has shape torch.Size([1000, 4, 1, 1, 1])\n",
      "Loss: 2.3024911880493164\n",
      "a has shape torch.Size([1000, 3]) before the FCL\n",
      "a has shape torch.Size([1000, 4]) after the FCL\n",
      "a has now has shape torch.Size([1000, 4, 1, 1, 1])\n",
      "Loss: 2.304943561553955\n",
      "a has shape torch.Size([1000, 3]) before the FCL\n",
      "a has shape torch.Size([1000, 4]) after the FCL\n",
      "a has now has shape torch.Size([1000, 4, 1, 1, 1])\n",
      "Loss: 2.302424430847168\n",
      "a has shape torch.Size([1000, 3]) before the FCL\n",
      "a has shape torch.Size([1000, 4]) after the FCL\n",
      "a has now has shape torch.Size([1000, 4, 1, 1, 1])\n",
      "Loss: 2.311208486557007\n",
      "a has shape torch.Size([1000, 3]) before the FCL\n",
      "a has shape torch.Size([1000, 4]) after the FCL\n",
      "a has now has shape torch.Size([1000, 4, 1, 1, 1])\n",
      "Loss: 2.3073229789733887\n",
      "a has shape torch.Size([1000, 3]) before the FCL\n",
      "a has shape torch.Size([1000, 4]) after the FCL\n",
      "a has now has shape torch.Size([1000, 4, 1, 1, 1])\n",
      "Loss: 2.3043105602264404\n",
      "a has shape torch.Size([1000, 3]) before the FCL\n",
      "a has shape torch.Size([1000, 4]) after the FCL\n",
      "a has now has shape torch.Size([1000, 4, 1, 1, 1])\n",
      "Loss: 2.3065133094787598\n",
      "a has shape torch.Size([1000, 3]) before the FCL\n",
      "a has shape torch.Size([1000, 4]) after the FCL\n",
      "a has now has shape torch.Size([1000, 4, 1, 1, 1])\n",
      "Loss: 2.3080050945281982\n",
      "a has shape torch.Size([1000, 3]) before the FCL\n",
      "a has shape torch.Size([1000, 4]) after the FCL\n",
      "a has now has shape torch.Size([1000, 4, 1, 1, 1])\n",
      "Loss: 2.304839849472046\n",
      "a has shape torch.Size([1000, 3]) before the FCL\n",
      "a has shape torch.Size([1000, 4]) after the FCL\n",
      "a has now has shape torch.Size([1000, 4, 1, 1, 1])\n",
      "Loss: 2.306609630584717\n",
      "a has shape torch.Size([1000, 3]) before the FCL\n",
      "a has shape torch.Size([1000, 4]) after the FCL\n",
      "a has now has shape torch.Size([1000, 4, 1, 1, 1])\n",
      "Loss: 2.3047757148742676\n",
      "a has shape torch.Size([1000, 3]) before the FCL\n",
      "a has shape torch.Size([1000, 4]) after the FCL\n",
      "a has now has shape torch.Size([1000, 4, 1, 1, 1])\n",
      "Loss: 2.311368942260742\n",
      "a has shape torch.Size([1000, 3]) before the FCL\n",
      "a has shape torch.Size([1000, 4]) after the FCL\n",
      "a has now has shape torch.Size([1000, 4, 1, 1, 1])\n",
      "Loss: 2.308234453201294\n",
      "a has shape torch.Size([1000, 3]) before the FCL\n",
      "a has shape torch.Size([1000, 4]) after the FCL\n",
      "a has now has shape torch.Size([1000, 4, 1, 1, 1])\n",
      "Loss: 2.3055481910705566\n",
      "a has shape torch.Size([1000, 3]) before the FCL\n",
      "a has shape torch.Size([1000, 4]) after the FCL\n",
      "a has now has shape torch.Size([1000, 4, 1, 1, 1])\n",
      "Loss: 2.3027431964874268\n",
      "a has shape torch.Size([1000, 3]) before the FCL\n",
      "a has shape torch.Size([1000, 4]) after the FCL\n",
      "a has now has shape torch.Size([1000, 4, 1, 1, 1])\n",
      "Loss: 2.3045637607574463\n",
      "a has shape torch.Size([1000, 3]) before the FCL\n",
      "a has shape torch.Size([1000, 4]) after the FCL\n",
      "a has now has shape torch.Size([1000, 4, 1, 1, 1])\n",
      "Loss: 2.306513786315918\n",
      "a has shape torch.Size([1000, 3]) before the FCL\n",
      "a has shape torch.Size([1000, 4]) after the FCL\n",
      "a has now has shape torch.Size([1000, 4, 1, 1, 1])\n",
      "Loss: 2.307943820953369\n",
      "a has shape torch.Size([1000, 3]) before the FCL\n",
      "a has shape torch.Size([1000, 4]) after the FCL\n",
      "a has now has shape torch.Size([1000, 4, 1, 1, 1])\n",
      "Loss: 2.303556203842163\n",
      "a has shape torch.Size([1000, 3]) before the FCL\n",
      "a has shape torch.Size([1000, 4]) after the FCL\n",
      "a has now has shape torch.Size([1000, 4, 1, 1, 1])\n",
      "Loss: 2.3115663528442383\n",
      "a has shape torch.Size([1000, 3]) before the FCL\n",
      "a has shape torch.Size([1000, 4]) after the FCL\n",
      "a has now has shape torch.Size([1000, 4, 1, 1, 1])\n",
      "Loss: 2.301683187484741\n",
      "a has shape torch.Size([1000, 3]) before the FCL\n",
      "a has shape torch.Size([1000, 4]) after the FCL\n",
      "a has now has shape torch.Size([1000, 4, 1, 1, 1])\n",
      "Loss: 2.3053581714630127\n",
      "a has shape torch.Size([1000, 3]) before the FCL\n",
      "a has shape torch.Size([1000, 4]) after the FCL\n",
      "a has now has shape torch.Size([1000, 4, 1, 1, 1])\n",
      "Loss: 2.3082470893859863\n",
      "a has shape torch.Size([1000, 3]) before the FCL\n",
      "a has shape torch.Size([1000, 4]) after the FCL\n",
      "a has now has shape torch.Size([1000, 4, 1, 1, 1])\n",
      "Loss: 2.3027002811431885\n",
      "a has shape torch.Size([1000, 3]) before the FCL\n",
      "a has shape torch.Size([1000, 4]) after the FCL\n",
      "a has now has shape torch.Size([1000, 4, 1, 1, 1])\n",
      "Loss: 2.305865526199341\n",
      "a has shape torch.Size([1000, 3]) before the FCL\n",
      "a has shape torch.Size([1000, 4]) after the FCL\n",
      "a has now has shape torch.Size([1000, 4, 1, 1, 1])\n",
      "Loss: 2.311995267868042\n",
      "a has shape torch.Size([1000, 3]) before the FCL\n",
      "a has shape torch.Size([1000, 4]) after the FCL\n",
      "a has now has shape torch.Size([1000, 4, 1, 1, 1])\n",
      "Loss: 2.3052444458007812\n",
      "a has shape torch.Size([1000, 3]) before the FCL\n",
      "a has shape torch.Size([1000, 4]) after the FCL\n",
      "a has now has shape torch.Size([1000, 4, 1, 1, 1])\n",
      "Loss: 2.3077311515808105\n",
      "a has shape torch.Size([1000, 3]) before the FCL\n",
      "a has shape torch.Size([1000, 4]) after the FCL\n",
      "a has now has shape torch.Size([1000, 4, 1, 1, 1])\n",
      "Loss: 2.303736925125122\n",
      "a has shape torch.Size([1000, 3]) before the FCL\n",
      "a has shape torch.Size([1000, 4]) after the FCL\n",
      "a has now has shape torch.Size([1000, 4, 1, 1, 1])\n",
      "Loss: 2.3025596141815186\n",
      "a has shape torch.Size([1000, 3]) before the FCL\n",
      "a has shape torch.Size([1000, 4]) after the FCL\n",
      "a has now has shape torch.Size([1000, 4, 1, 1, 1])\n",
      "Loss: 2.3091068267822266\n",
      "a has shape torch.Size([1000, 3]) before the FCL\n",
      "a has shape torch.Size([1000, 4]) after the FCL\n",
      "a has now has shape torch.Size([1000, 4, 1, 1, 1])\n",
      "Loss: 2.30532169342041\n",
      "a has shape torch.Size([1000, 3]) before the FCL\n",
      "a has shape torch.Size([1000, 4]) after the FCL\n",
      "a has now has shape torch.Size([1000, 4, 1, 1, 1])\n",
      "Loss: 2.303805351257324\n",
      "a has shape torch.Size([1000, 3]) before the FCL\n",
      "a has shape torch.Size([1000, 4]) after the FCL\n",
      "a has now has shape torch.Size([1000, 4, 1, 1, 1])\n",
      "Loss: 2.3047008514404297\n",
      "a has shape torch.Size([1000, 3]) before the FCL\n",
      "a has shape torch.Size([1000, 4]) after the FCL\n",
      "a has now has shape torch.Size([1000, 4, 1, 1, 1])\n",
      "Loss: 2.3084068298339844\n",
      "a has shape torch.Size([1000, 3]) before the FCL\n",
      "a has shape torch.Size([1000, 4]) after the FCL\n",
      "a has now has shape torch.Size([1000, 4, 1, 1, 1])\n",
      "Loss: 2.305690050125122\n",
      "a has shape torch.Size([1000, 3]) before the FCL\n",
      "a has shape torch.Size([1000, 4]) after the FCL\n",
      "a has now has shape torch.Size([1000, 4, 1, 1, 1])\n",
      "Loss: 2.302131175994873\n",
      "a has shape torch.Size([1000, 3]) before the FCL\n",
      "a has shape torch.Size([1000, 4]) after the FCL\n",
      "a has now has shape torch.Size([1000, 4, 1, 1, 1])\n",
      "Loss: 2.3020036220550537\n",
      "a has shape torch.Size([1000, 3]) before the FCL\n",
      "a has shape torch.Size([1000, 4]) after the FCL\n",
      "a has now has shape torch.Size([1000, 4, 1, 1, 1])\n",
      "Loss: 2.3070876598358154\n",
      "a has shape torch.Size([1000, 3]) before the FCL\n",
      "a has shape torch.Size([1000, 4]) after the FCL\n",
      "a has now has shape torch.Size([1000, 4, 1, 1, 1])\n",
      "Loss: 2.305980682373047\n",
      "a has shape torch.Size([1000, 3]) before the FCL\n",
      "a has shape torch.Size([1000, 4]) after the FCL\n",
      "a has now has shape torch.Size([1000, 4, 1, 1, 1])\n",
      "Loss: 2.3071823120117188\n",
      "a has shape torch.Size([1000, 3]) before the FCL\n",
      "a has shape torch.Size([1000, 4]) after the FCL\n",
      "a has now has shape torch.Size([1000, 4, 1, 1, 1])\n",
      "Loss: 2.306323528289795\n",
      "a has shape torch.Size([1000, 3]) before the FCL\n",
      "a has shape torch.Size([1000, 4]) after the FCL\n",
      "a has now has shape torch.Size([1000, 4, 1, 1, 1])\n",
      "Loss: 2.3058786392211914\n",
      "a has shape torch.Size([1000, 3]) before the FCL\n",
      "a has shape torch.Size([1000, 4]) after the FCL\n",
      "a has now has shape torch.Size([1000, 4, 1, 1, 1])\n",
      "Loss: 2.30674147605896\n",
      "a has shape torch.Size([1000, 3]) before the FCL\n",
      "a has shape torch.Size([1000, 4]) after the FCL\n",
      "a has now has shape torch.Size([1000, 4, 1, 1, 1])\n",
      "Loss: 2.3018412590026855\n",
      "a has shape torch.Size([1000, 3]) before the FCL\n",
      "a has shape torch.Size([1000, 4]) after the FCL\n",
      "a has now has shape torch.Size([1000, 4, 1, 1, 1])\n",
      "Loss: 2.3019461631774902\n",
      "a has shape torch.Size([1000, 3]) before the FCL\n",
      "a has shape torch.Size([1000, 4]) after the FCL\n",
      "a has now has shape torch.Size([1000, 4, 1, 1, 1])\n",
      "Loss: 2.305401563644409\n",
      "InterBlock(\n",
      "  (Batch1): ModuleList(\n",
      "    (0-3): 4 x Conv2d(3, 11, kernel_size=(3, 3), stride=(1, 1), padding=(2, 2))\n",
      "  )\n",
      "  (compute_m): AdaptiveAvgPool2d(output_size=(1, 1))\n",
      "  (a_Batch1): Linear(in_features=3, out_features=4, bias=True)\n",
      "  (Relu): ReLU()\n",
      "  (fc_out_layers): ModuleList(\n",
      "    (0): Linear(in_features=34, out_features=10, bias=True)\n",
      "  )\n",
      ")\n",
      "a has shape torch.Size([1000, 3]) before the FCL\n",
      "a has shape torch.Size([1000, 4]) after the FCL\n",
      "a has now has shape torch.Size([1000, 4, 1, 1, 1])\n",
      "a has shape torch.Size([1000, 3]) before the FCL\n",
      "a has shape torch.Size([1000, 4]) after the FCL\n",
      "a has now has shape torch.Size([1000, 4, 1, 1, 1])\n",
      "a has shape torch.Size([1000, 3]) before the FCL\n",
      "a has shape torch.Size([1000, 4]) after the FCL\n",
      "a has now has shape torch.Size([1000, 4, 1, 1, 1])\n",
      "a has shape torch.Size([1000, 3]) before the FCL\n",
      "a has shape torch.Size([1000, 4]) after the FCL\n",
      "a has now has shape torch.Size([1000, 4, 1, 1, 1])\n",
      "a has shape torch.Size([1000, 3]) before the FCL\n",
      "a has shape torch.Size([1000, 4]) after the FCL\n",
      "a has now has shape torch.Size([1000, 4, 1, 1, 1])\n",
      "a has shape torch.Size([1000, 3]) before the FCL\n",
      "a has shape torch.Size([1000, 4]) after the FCL\n",
      "a has now has shape torch.Size([1000, 4, 1, 1, 1])\n",
      "a has shape torch.Size([1000, 3]) before the FCL\n",
      "a has shape torch.Size([1000, 4]) after the FCL\n",
      "a has now has shape torch.Size([1000, 4, 1, 1, 1])\n",
      "a has shape torch.Size([1000, 3]) before the FCL\n",
      "a has shape torch.Size([1000, 4]) after the FCL\n",
      "a has now has shape torch.Size([1000, 4, 1, 1, 1])\n",
      "a has shape torch.Size([1000, 3]) before the FCL\n",
      "a has shape torch.Size([1000, 4]) after the FCL\n",
      "a has now has shape torch.Size([1000, 4, 1, 1, 1])\n"
     ]
    },
    {
     "ename": "KeyboardInterrupt",
     "evalue": "",
     "output_type": "error",
     "traceback": [
      "\u001b[0;31m---------------------------------------------------------------------------\u001b[0m",
      "\u001b[0;31mKeyboardInterrupt\u001b[0m                         Traceback (most recent call last)",
      "Cell \u001b[0;32mIn[62], line 23\u001b[0m\n\u001b[1;32m     21\u001b[0m     \u001b[38;5;28mprint\u001b[39m(\u001b[38;5;124mf\u001b[39m\u001b[38;5;124m'\u001b[39m\u001b[38;5;124mLoss: \u001b[39m\u001b[38;5;132;01m{\u001b[39;00m\u001b[38;5;28mfloat\u001b[39m(l)\u001b[38;5;132;01m}\u001b[39;00m\u001b[38;5;124m'\u001b[39m)\n\u001b[1;32m     22\u001b[0m     losses\u001b[38;5;241m.\u001b[39mappend(\u001b[38;5;28mfloat\u001b[39m(l)) \u001b[38;5;66;03m# Stores the loss for this batch\u001b[39;00m\n\u001b[0;32m---> 23\u001b[0m \u001b[38;5;28mprint\u001b[39m(\u001b[43mevaluate_metric\u001b[49m\u001b[43m(\u001b[49m\u001b[43mmodel\u001b[49m\u001b[43m,\u001b[49m\u001b[43m \u001b[49m\u001b[43mtrain_iter\u001b[49m\u001b[43m \u001b[49m\u001b[43m,\u001b[49m\u001b[43m \u001b[49m\u001b[43mcorrect\u001b[49m\u001b[43m,\u001b[49m\u001b[43m \u001b[49m\u001b[43mdevice\u001b[49m\u001b[43m)\u001b[49m)\n\u001b[1;32m     25\u001b[0m \u001b[38;5;28;01mwith\u001b[39;00m torch\u001b[38;5;241m.\u001b[39mno_grad(): \u001b[38;5;66;03m# Computing performance metrics does not require gradients\u001b[39;00m\n\u001b[1;32m     26\u001b[0m     train_accs\u001b[38;5;241m.\u001b[39mappend( evaluate_metric(model, train_iter , correct, device)  ) \n",
      "Cell \u001b[0;32mIn[41], line 19\u001b[0m, in \u001b[0;36mevaluate_metric\u001b[0;34m(model, data_iter, metric, device)\u001b[0m\n\u001b[1;32m     17\u001b[0m \u001b[38;5;28mprint\u001b[39m(model)\n\u001b[1;32m     18\u001b[0m \u001b[38;5;28;01mfor\u001b[39;00m X, y \u001b[38;5;129;01min\u001b[39;00m data_iter: \n\u001b[0;32m---> 19\u001b[0m     logits \u001b[38;5;241m=\u001b[39m \u001b[43mmodel\u001b[49m\u001b[43m(\u001b[49m\u001b[43mX\u001b[49m\u001b[43m)\u001b[49m\u001b[38;5;241m.\u001b[39mto(device)\n\u001b[1;32m     20\u001b[0m     c \u001b[38;5;241m+\u001b[39m\u001b[38;5;241m=\u001b[39m metric(logits, y\u001b[38;5;241m.\u001b[39mto(device))\u001b[38;5;241m.\u001b[39mto(device)\n\u001b[1;32m     21\u001b[0m     n \u001b[38;5;241m+\u001b[39m\u001b[38;5;241m=\u001b[39m \u001b[38;5;28mlen\u001b[39m(y) \n",
      "File \u001b[0;32m/opt/conda/lib/python3.11/site-packages/torch/nn/modules/module.py:1518\u001b[0m, in \u001b[0;36mModule._wrapped_call_impl\u001b[0;34m(self, *args, **kwargs)\u001b[0m\n\u001b[1;32m   1516\u001b[0m     \u001b[38;5;28;01mreturn\u001b[39;00m \u001b[38;5;28mself\u001b[39m\u001b[38;5;241m.\u001b[39m_compiled_call_impl(\u001b[38;5;241m*\u001b[39margs, \u001b[38;5;241m*\u001b[39m\u001b[38;5;241m*\u001b[39mkwargs)  \u001b[38;5;66;03m# type: ignore[misc]\u001b[39;00m\n\u001b[1;32m   1517\u001b[0m \u001b[38;5;28;01melse\u001b[39;00m:\n\u001b[0;32m-> 1518\u001b[0m     \u001b[38;5;28;01mreturn\u001b[39;00m \u001b[38;5;28;43mself\u001b[39;49m\u001b[38;5;241;43m.\u001b[39;49m\u001b[43m_call_impl\u001b[49m\u001b[43m(\u001b[49m\u001b[38;5;241;43m*\u001b[39;49m\u001b[43margs\u001b[49m\u001b[43m,\u001b[49m\u001b[43m \u001b[49m\u001b[38;5;241;43m*\u001b[39;49m\u001b[38;5;241;43m*\u001b[39;49m\u001b[43mkwargs\u001b[49m\u001b[43m)\u001b[49m\n",
      "File \u001b[0;32m/opt/conda/lib/python3.11/site-packages/torch/nn/modules/module.py:1527\u001b[0m, in \u001b[0;36mModule._call_impl\u001b[0;34m(self, *args, **kwargs)\u001b[0m\n\u001b[1;32m   1522\u001b[0m \u001b[38;5;66;03m# If we don't have any hooks, we want to skip the rest of the logic in\u001b[39;00m\n\u001b[1;32m   1523\u001b[0m \u001b[38;5;66;03m# this function, and just call forward.\u001b[39;00m\n\u001b[1;32m   1524\u001b[0m \u001b[38;5;28;01mif\u001b[39;00m \u001b[38;5;129;01mnot\u001b[39;00m (\u001b[38;5;28mself\u001b[39m\u001b[38;5;241m.\u001b[39m_backward_hooks \u001b[38;5;129;01mor\u001b[39;00m \u001b[38;5;28mself\u001b[39m\u001b[38;5;241m.\u001b[39m_backward_pre_hooks \u001b[38;5;129;01mor\u001b[39;00m \u001b[38;5;28mself\u001b[39m\u001b[38;5;241m.\u001b[39m_forward_hooks \u001b[38;5;129;01mor\u001b[39;00m \u001b[38;5;28mself\u001b[39m\u001b[38;5;241m.\u001b[39m_forward_pre_hooks\n\u001b[1;32m   1525\u001b[0m         \u001b[38;5;129;01mor\u001b[39;00m _global_backward_pre_hooks \u001b[38;5;129;01mor\u001b[39;00m _global_backward_hooks\n\u001b[1;32m   1526\u001b[0m         \u001b[38;5;129;01mor\u001b[39;00m _global_forward_hooks \u001b[38;5;129;01mor\u001b[39;00m _global_forward_pre_hooks):\n\u001b[0;32m-> 1527\u001b[0m     \u001b[38;5;28;01mreturn\u001b[39;00m \u001b[43mforward_call\u001b[49m\u001b[43m(\u001b[49m\u001b[38;5;241;43m*\u001b[39;49m\u001b[43margs\u001b[49m\u001b[43m,\u001b[49m\u001b[43m \u001b[49m\u001b[38;5;241;43m*\u001b[39;49m\u001b[38;5;241;43m*\u001b[39;49m\u001b[43mkwargs\u001b[49m\u001b[43m)\u001b[49m\n\u001b[1;32m   1529\u001b[0m \u001b[38;5;28;01mtry\u001b[39;00m:\n\u001b[1;32m   1530\u001b[0m     result \u001b[38;5;241m=\u001b[39m \u001b[38;5;28;01mNone\u001b[39;00m\n",
      "Cell \u001b[0;32mIn[61], line 44\u001b[0m, in \u001b[0;36mInterBlock.forward\u001b[0;34m(self, x)\u001b[0m\n\u001b[1;32m     41\u001b[0m x \u001b[38;5;241m=\u001b[39m x\u001b[38;5;241m.\u001b[39mto(device)\n\u001b[1;32m     43\u001b[0m \u001b[38;5;66;03m# Computing a\u001b[39;00m\n\u001b[0;32m---> 44\u001b[0m a \u001b[38;5;241m=\u001b[39m \u001b[38;5;28;43mself\u001b[39;49m\u001b[38;5;241;43m.\u001b[39;49m\u001b[43mcompute_m\u001b[49m\u001b[43m(\u001b[49m\u001b[43m \u001b[49m\u001b[43mx\u001b[49m\u001b[43m \u001b[49m\u001b[43m)\u001b[49m\u001b[38;5;241m.\u001b[39mreshape([\u001b[38;5;28mself\u001b[39m\u001b[38;5;241m.\u001b[39mbatch_size, \u001b[38;5;28mself\u001b[39m\u001b[38;5;241m.\u001b[39mnum_channels])\n\u001b[1;32m     45\u001b[0m \u001b[38;5;28mprint\u001b[39m(\u001b[38;5;124mf\u001b[39m\u001b[38;5;124m'\u001b[39m\u001b[38;5;124ma has shape \u001b[39m\u001b[38;5;132;01m{\u001b[39;00ma\u001b[38;5;241m.\u001b[39mshape\u001b[38;5;132;01m}\u001b[39;00m\u001b[38;5;124m before the FCL\u001b[39m\u001b[38;5;124m'\u001b[39m)\n\u001b[1;32m     46\u001b[0m a \u001b[38;5;241m=\u001b[39m \u001b[38;5;28mself\u001b[39m\u001b[38;5;241m.\u001b[39ma_Batch1(a)\u001b[38;5;241m.\u001b[39mto(\u001b[38;5;28mself\u001b[39m\u001b[38;5;241m.\u001b[39mdevice)\n",
      "File \u001b[0;32m/opt/conda/lib/python3.11/site-packages/torch/nn/modules/module.py:1518\u001b[0m, in \u001b[0;36mModule._wrapped_call_impl\u001b[0;34m(self, *args, **kwargs)\u001b[0m\n\u001b[1;32m   1516\u001b[0m     \u001b[38;5;28;01mreturn\u001b[39;00m \u001b[38;5;28mself\u001b[39m\u001b[38;5;241m.\u001b[39m_compiled_call_impl(\u001b[38;5;241m*\u001b[39margs, \u001b[38;5;241m*\u001b[39m\u001b[38;5;241m*\u001b[39mkwargs)  \u001b[38;5;66;03m# type: ignore[misc]\u001b[39;00m\n\u001b[1;32m   1517\u001b[0m \u001b[38;5;28;01melse\u001b[39;00m:\n\u001b[0;32m-> 1518\u001b[0m     \u001b[38;5;28;01mreturn\u001b[39;00m \u001b[38;5;28;43mself\u001b[39;49m\u001b[38;5;241;43m.\u001b[39;49m\u001b[43m_call_impl\u001b[49m\u001b[43m(\u001b[49m\u001b[38;5;241;43m*\u001b[39;49m\u001b[43margs\u001b[49m\u001b[43m,\u001b[49m\u001b[43m \u001b[49m\u001b[38;5;241;43m*\u001b[39;49m\u001b[38;5;241;43m*\u001b[39;49m\u001b[43mkwargs\u001b[49m\u001b[43m)\u001b[49m\n",
      "File \u001b[0;32m/opt/conda/lib/python3.11/site-packages/torch/nn/modules/module.py:1527\u001b[0m, in \u001b[0;36mModule._call_impl\u001b[0;34m(self, *args, **kwargs)\u001b[0m\n\u001b[1;32m   1522\u001b[0m \u001b[38;5;66;03m# If we don't have any hooks, we want to skip the rest of the logic in\u001b[39;00m\n\u001b[1;32m   1523\u001b[0m \u001b[38;5;66;03m# this function, and just call forward.\u001b[39;00m\n\u001b[1;32m   1524\u001b[0m \u001b[38;5;28;01mif\u001b[39;00m \u001b[38;5;129;01mnot\u001b[39;00m (\u001b[38;5;28mself\u001b[39m\u001b[38;5;241m.\u001b[39m_backward_hooks \u001b[38;5;129;01mor\u001b[39;00m \u001b[38;5;28mself\u001b[39m\u001b[38;5;241m.\u001b[39m_backward_pre_hooks \u001b[38;5;129;01mor\u001b[39;00m \u001b[38;5;28mself\u001b[39m\u001b[38;5;241m.\u001b[39m_forward_hooks \u001b[38;5;129;01mor\u001b[39;00m \u001b[38;5;28mself\u001b[39m\u001b[38;5;241m.\u001b[39m_forward_pre_hooks\n\u001b[1;32m   1525\u001b[0m         \u001b[38;5;129;01mor\u001b[39;00m _global_backward_pre_hooks \u001b[38;5;129;01mor\u001b[39;00m _global_backward_hooks\n\u001b[1;32m   1526\u001b[0m         \u001b[38;5;129;01mor\u001b[39;00m _global_forward_hooks \u001b[38;5;129;01mor\u001b[39;00m _global_forward_pre_hooks):\n\u001b[0;32m-> 1527\u001b[0m     \u001b[38;5;28;01mreturn\u001b[39;00m \u001b[43mforward_call\u001b[49m\u001b[43m(\u001b[49m\u001b[38;5;241;43m*\u001b[39;49m\u001b[43margs\u001b[49m\u001b[43m,\u001b[49m\u001b[43m \u001b[49m\u001b[38;5;241;43m*\u001b[39;49m\u001b[38;5;241;43m*\u001b[39;49m\u001b[43mkwargs\u001b[49m\u001b[43m)\u001b[49m\n\u001b[1;32m   1529\u001b[0m \u001b[38;5;28;01mtry\u001b[39;00m:\n\u001b[1;32m   1530\u001b[0m     result \u001b[38;5;241m=\u001b[39m \u001b[38;5;28;01mNone\u001b[39;00m\n",
      "File \u001b[0;32m/opt/conda/lib/python3.11/site-packages/torch/nn/modules/pooling.py:1194\u001b[0m, in \u001b[0;36mAdaptiveAvgPool2d.forward\u001b[0;34m(self, input)\u001b[0m\n\u001b[1;32m   1193\u001b[0m \u001b[38;5;28;01mdef\u001b[39;00m \u001b[38;5;21mforward\u001b[39m(\u001b[38;5;28mself\u001b[39m, \u001b[38;5;28minput\u001b[39m: Tensor) \u001b[38;5;241m-\u001b[39m\u001b[38;5;241m>\u001b[39m Tensor:\n\u001b[0;32m-> 1194\u001b[0m     \u001b[38;5;28;01mreturn\u001b[39;00m \u001b[43mF\u001b[49m\u001b[38;5;241;43m.\u001b[39;49m\u001b[43madaptive_avg_pool2d\u001b[49m\u001b[43m(\u001b[49m\u001b[38;5;28;43minput\u001b[39;49m\u001b[43m,\u001b[49m\u001b[43m \u001b[49m\u001b[38;5;28;43mself\u001b[39;49m\u001b[38;5;241;43m.\u001b[39;49m\u001b[43moutput_size\u001b[49m\u001b[43m)\u001b[49m\n",
      "File \u001b[0;32m/opt/conda/lib/python3.11/site-packages/torch/nn/functional.py:1228\u001b[0m, in \u001b[0;36madaptive_avg_pool2d\u001b[0;34m(input, output_size)\u001b[0m\n\u001b[1;32m   1226\u001b[0m     \u001b[38;5;28;01mreturn\u001b[39;00m handle_torch_function(adaptive_avg_pool2d, (\u001b[38;5;28minput\u001b[39m,), \u001b[38;5;28minput\u001b[39m, output_size)\n\u001b[1;32m   1227\u001b[0m _output_size \u001b[38;5;241m=\u001b[39m _list_with_default(output_size, \u001b[38;5;28minput\u001b[39m\u001b[38;5;241m.\u001b[39msize())\n\u001b[0;32m-> 1228\u001b[0m \u001b[38;5;28;01mreturn\u001b[39;00m \u001b[43mtorch\u001b[49m\u001b[38;5;241;43m.\u001b[39;49m\u001b[43m_C\u001b[49m\u001b[38;5;241;43m.\u001b[39;49m\u001b[43m_nn\u001b[49m\u001b[38;5;241;43m.\u001b[39;49m\u001b[43madaptive_avg_pool2d\u001b[49m\u001b[43m(\u001b[49m\u001b[38;5;28;43minput\u001b[39;49m\u001b[43m,\u001b[49m\u001b[43m \u001b[49m\u001b[43m_output_size\u001b[49m\u001b[43m)\u001b[49m\n",
      "\u001b[0;31mKeyboardInterrupt\u001b[0m: "
     ]
    }
   ],
   "source": [
    "losses = [] # Stores the loss for each training batch\n",
    "train_accs = [] # Stores the training accuracy after each epoch\n",
    "test_accs = [] # Stores the testing accuracy after each epoch\n",
    "\n",
    "lr = 0.1\n",
    "optimizer = torch.optim.SGD(model.parameters(), lr=lr)  \n",
    "\n",
    "model = InterBlock(x_train, device, num_convolutions=4, num_out_fc_layers=1).to(device)\n",
    "num_epochs = 20\n",
    "\n",
    "for epoch in range(num_epochs):\n",
    "    print(f'\\nEpoch {epoch + 1}/{num_epochs}.')\n",
    "    \n",
    "    for x_train, y_train in train_iter: \n",
    "        logits = model(x_train).to(device) \n",
    "        l = cross_entropy_loss(logits , y_train.to(device)).to(device) # Computes the loss given the `logits` and the class vector `y`\n",
    "        optimizer.zero_grad() # Zeroes the gradients stored in the model parameters\n",
    "        l.backward() # Computes the gradient of the loss `l` with respect to the model parameters\n",
    "\n",
    "        optimizer.step() # Updates the model parameters based on the gradients stored inside them\n",
    "        print(f'Loss: {float(l)}')\n",
    "        losses.append(float(l)) # Stores the loss for this batch\n",
    "    print(evaluate_metric(model, train_iter , correct, device))\n",
    "       \n",
    "    with torch.no_grad(): # Computing performance metrics does not require gradients\n",
    "        train_accs.append( evaluate_metric(model, train_iter , correct, device)  ) \n",
    "        test_accs.append( evaluate_metric(model, test_iter, correct, device) ) \n",
    "        print(f'Training accuracy: {train_accs[-1]}. Testing accuracy: {test_accs[-1]}.')"
   ]
  },
  {
   "cell_type": "code",
   "execution_count": null,
   "metadata": {},
   "outputs": [],
   "source": [
    "x_test.shape , x_train.shape"
   ]
  },
  {
   "cell_type": "code",
   "execution_count": 63,
   "metadata": {},
   "outputs": [
    {
     "data": {
      "image/png": "[encoded data removed]",
      "text/plain": [
       "<Figure size 640x480 with 1 Axes>"
      ]
     },
     "metadata": {},
     "output_type": "display_data"
    },
    {
     "data": {
      "image/png": "[encoded data removed]",
      "text/plain": [
       "<Figure size 640x480 with 1 Axes>"
      ]
     },
     "metadata": {},
     "output_type": "display_data"
    }
   ],
   "source": [
    "plt.plot(losses) # Plots the loss for each training batch\n",
    "plt.xlabel('Training batch')\n",
    "plt.ylabel('Cross entropy loss')\n",
    "plt.show()\n",
    "\n",
    "plt.plot(train_accs, label='Training accuracy')\n",
    "plt.plot(test_accs, label='Testing accuracy')\n",
    "plt.legend(loc='best')\n",
    "plt.xlabel('Epoch')\n",
    "plt.show()"
   ]
  },
  {
   "cell_type": "code",
   "execution_count": 51,
   "metadata": {},
   "outputs": [
    {
     "data": {
      "text/plain": [
       "[tensor(0.1006, device='cuda:0'),\n",
       " tensor(0.1006, device='cuda:0'),\n",
       " tensor(0.1006, device='cuda:0'),\n",
       " tensor(0.1006, device='cuda:0'),\n",
       " tensor(0.1006, device='cuda:0'),\n",
       " tensor(0.1006, device='cuda:0'),\n",
       " tensor(0.1006, device='cuda:0'),\n",
       " tensor(0.1006, device='cuda:0'),\n",
       " tensor(0.1006, device='cuda:0'),\n",
       " tensor(0.1006, device='cuda:0'),\n",
       " tensor(0.1006, device='cuda:0'),\n",
       " tensor(0.1006, device='cuda:0')]"
      ]
     },
     "execution_count": 51,
     "metadata": {},
     "output_type": "execute_result"
    }
   ],
   "source": [
    "train_accs"
   ]
  },
  {
   "cell_type": "code",
   "execution_count": null,
   "metadata": {},
   "outputs": [],
   "source": [
    "device = torch.device(\"cuda\" if torch.cuda.is_available() else \"cpu\")\n",
    "\n",
    "batch_size = 5000\n",
    "x = x_train[0:batch_size].to(device)\n",
    "print(x.shape)\n",
    "y = torch.tensor(y_train[0:batch_size]).to(device)\n",
    "\n",
    "lr = 0.7\n",
    "iterations = 3\n",
    "\n",
    "optimizer = torch.optim.SGD(model.parameters(), lr=lr)\n",
    " \n",
    " \n",
    "def init_weights(m):\n",
    "    if type(m) == torch.nn.Linear or type(m) == torch.nn.Conv2d:\n",
    "        torch.nn.init.xavier_uniform_(m.weight)\n",
    "\n",
    "model =  NeuralNet(device, num_convolutions= 4, num_out_fc_layers= 1)\n",
    "# model.apply(init_weights) # Applies `init_weights` to every `torch.nn.Module` inside `model`\n",
    "\n",
    "\n",
    "model.to('cuda')\n",
    "errors = []\n",
    "losses = []\n",
    "\n",
    "for ep in range(iterations):\n",
    "  print(f'Iteration: {ep}')\n",
    "  error_sum = 0\n",
    "  for i in range(x.shape[0]):\n",
    " \n",
    "    y_pred = model.forward(x[i])\n",
    "      \n",
    "    error = cross_entropy_loss( logit= y_pred, label= y[i])\n",
    "    error_sum += error  \n",
    "    \n",
    "    optimizer.zero_grad()\n",
    "    error.backward()\n",
    "\n",
    "    optimizer.step()\n",
    "    losses.append(error)\n",
    "\n",
    "  errors.append( float(error_sum/x.shape[0]) )\n"
   ]
  },
  {
   "cell_type": "code",
   "execution_count": null,
   "metadata": {},
   "outputs": [],
   "source": [
    "# [x.item() for x in errors]\n",
    "errors\n"
   ]
  },
  {
   "cell_type": "code",
   "execution_count": null,
   "metadata": {},
   "outputs": [],
   "source": [
    "plt.plot(list(range(iterations)), errors)\n",
    "plt.show()\n",
    "\n",
    "y_pred = torch.zeros_like(y)\n",
    "for i in range(x.shape[1]):\n",
    "  y_pred[i] = model(x[i])[1]\n",
    "print(y, y_pred)"
   ]
  },
  {
   "cell_type": "code",
   "execution_count": null,
   "metadata": {},
   "outputs": [],
   "source": []
  },
  {
   "cell_type": "code",
   "execution_count": null,
   "metadata": {},
   "outputs": [],
   "source": []
  }
 ],
 "metadata": {
  "kernelspec": {
   "display_name": "Python 3 (ipykernel)",
   "language": "python",
   "name": "python3"
  },
  "language_info": {
   "codemirror_mode": {
    "name": "ipython",
    "version": 3
   },
   "file_extension": ".py",
   "mimetype": "text/x-python",
   "name": "python",
   "nbconvert_exporter": "python",
   "pygments_lexer": "ipython3",
   "version": "3.11.7"
  }
 },
 "nbformat": 4,
 "nbformat_minor": 4
}
